{
 "cells": [
  {
   "cell_type": "markdown",
   "metadata": {},
   "source": [
    "# Multinomial Naïves Bayes"
   ]
  },
  {
   "cell_type": "code",
   "execution_count": 1,
   "metadata": {},
   "outputs": [],
   "source": [
    "#!pip install scikit-plot"
   ]
  },
  {
   "cell_type": "code",
   "execution_count": 2,
   "metadata": {},
   "outputs": [],
   "source": [
    "import pandas as pd\n",
    "import numpy as np\n",
    "import matplotlib.pyplot as plt\n",
    "import seaborn as sns\n",
    "import scikitplot as skplt\n",
    "from sklearn.feature_extraction.text import CountVectorizer\n",
    "from sklearn.model_selection import train_test_split\n",
    "from sklearn.metrics import classification_report,confusion_matrix,accuracy_score,recall_score,precision_score,make_scorer,make_scorer, f1_score, roc_auc_score\n",
    "from sklearn.naive_bayes import MultinomialNB\n",
    "from sklearn.model_selection import GridSearchCV\n",
    "import os\n",
    "pd.set_option('display.float_format', lambda x: '%.3f' % x)"
   ]
  },
  {
   "cell_type": "code",
   "execution_count": 3,
   "metadata": {},
   "outputs": [],
   "source": [
    "reviews_df = pd.read_csv(\"reviews_preproc.csv\")\n",
    "reviews_df = reviews_df[[\"Texto Preprocesado\",\"Valoración\"]]\n",
    "reviews_df = reviews_df.rename(columns={\"Texto Preprocesado\": \"Texto\"})"
   ]
  },
  {
   "cell_type": "code",
   "execution_count": 4,
   "metadata": {},
   "outputs": [],
   "source": [
    "#Asignamos la polaridad en función de la valoración númerica\n",
    "reviews_df['Polaridad'] = reviews_df['Valoración'].apply(lambda c: 'Positivo' if c > 3  else('Negativo' if c < 3 else 'Neutro'))"
   ]
  },
  {
   "cell_type": "code",
   "execution_count": 5,
   "metadata": {},
   "outputs": [],
   "source": [
    "#Tomamos la polaridad negativa y positiva\n",
    "reviews_df = reviews_df[(reviews_df['Polaridad'] =='Positivo') | \n",
    "          (reviews_df['Polaridad'] == 'Negativo')] "
   ]
  },
  {
   "cell_type": "code",
   "execution_count": 6,
   "metadata": {},
   "outputs": [
    {
     "data": {
      "text/html": [
       "<div>\n",
       "<style scoped>\n",
       "    .dataframe tbody tr th:only-of-type {\n",
       "        vertical-align: middle;\n",
       "    }\n",
       "\n",
       "    .dataframe tbody tr th {\n",
       "        vertical-align: top;\n",
       "    }\n",
       "\n",
       "    .dataframe thead th {\n",
       "        text-align: right;\n",
       "    }\n",
       "</style>\n",
       "<table border=\"1\" class=\"dataframe\">\n",
       "  <thead>\n",
       "    <tr style=\"text-align: right;\">\n",
       "      <th></th>\n",
       "      <th>Texto</th>\n",
       "      <th>Valoración</th>\n",
       "      <th>Polaridad</th>\n",
       "    </tr>\n",
       "  </thead>\n",
       "  <tbody>\n",
       "    <tr>\n",
       "      <th>80529</th>\n",
       "      <td>rich abund food varieti choos excel treatment</td>\n",
       "      <td>5</td>\n",
       "      <td>Positivo</td>\n",
       "    </tr>\n",
       "    <tr>\n",
       "      <th>128569</th>\n",
       "      <td>ideal mid morn coffe vermouth noon serv great ...</td>\n",
       "      <td>5</td>\n",
       "      <td>Positivo</td>\n",
       "    </tr>\n",
       "    <tr>\n",
       "      <th>376921</th>\n",
       "      <td>tabl overlook beach beauti locat extrem friend...</td>\n",
       "      <td>5</td>\n",
       "      <td>Positivo</td>\n",
       "    </tr>\n",
       "    <tr>\n",
       "      <th>291893</th>\n",
       "      <td>alway attent good servic best cuisin</td>\n",
       "      <td>5</td>\n",
       "      <td>Positivo</td>\n",
       "    </tr>\n",
       "    <tr>\n",
       "      <th>31098</th>\n",
       "      <td>excel food servic luckili book tabl saturday n...</td>\n",
       "      <td>5</td>\n",
       "      <td>Positivo</td>\n",
       "    </tr>\n",
       "    <tr>\n",
       "      <th>...</th>\n",
       "      <td>...</td>\n",
       "      <td>...</td>\n",
       "      <td>...</td>\n",
       "    </tr>\n",
       "    <tr>\n",
       "      <th>204359</th>\n",
       "      <td>food averag servic realli bad need ask 2 time ...</td>\n",
       "      <td>1</td>\n",
       "      <td>Negativo</td>\n",
       "    </tr>\n",
       "    <tr>\n",
       "      <th>157775</th>\n",
       "      <td>fatal went dinner went wrote told us kitchen o...</td>\n",
       "      <td>1</td>\n",
       "      <td>Negativo</td>\n",
       "    </tr>\n",
       "    <tr>\n",
       "      <th>51713</th>\n",
       "      <td>guid rather poor review expens sweet addit pur...</td>\n",
       "      <td>1</td>\n",
       "      <td>Negativo</td>\n",
       "    </tr>\n",
       "    <tr>\n",
       "      <th>64180</th>\n",
       "      <td>put star put zero truth rate food servic appar...</td>\n",
       "      <td>1</td>\n",
       "      <td>Negativo</td>\n",
       "    </tr>\n",
       "    <tr>\n",
       "      <th>300381</th>\n",
       "      <td>fine peopl patienc jsjsjsjsjjsjsj</td>\n",
       "      <td>2</td>\n",
       "      <td>Negativo</td>\n",
       "    </tr>\n",
       "  </tbody>\n",
       "</table>\n",
       "<p>50000 rows × 3 columns</p>\n",
       "</div>"
      ],
      "text/plain": [
       "                                                    Texto  Valoración  \\\n",
       "80529       rich abund food varieti choos excel treatment           5   \n",
       "128569  ideal mid morn coffe vermouth noon serv great ...           5   \n",
       "376921  tabl overlook beach beauti locat extrem friend...           5   \n",
       "291893               alway attent good servic best cuisin           5   \n",
       "31098   excel food servic luckili book tabl saturday n...           5   \n",
       "...                                                   ...         ...   \n",
       "204359  food averag servic realli bad need ask 2 time ...           1   \n",
       "157775  fatal went dinner went wrote told us kitchen o...           1   \n",
       "51713   guid rather poor review expens sweet addit pur...           1   \n",
       "64180   put star put zero truth rate food servic appar...           1   \n",
       "300381                  fine peopl patienc jsjsjsjsjjsjsj           2   \n",
       "\n",
       "       Polaridad  \n",
       "80529   Positivo  \n",
       "128569  Positivo  \n",
       "376921  Positivo  \n",
       "291893  Positivo  \n",
       "31098   Positivo  \n",
       "...          ...  \n",
       "204359  Negativo  \n",
       "157775  Negativo  \n",
       "51713   Negativo  \n",
       "64180   Negativo  \n",
       "300381  Negativo  \n",
       "\n",
       "[50000 rows x 3 columns]"
      ]
     },
     "execution_count": 6,
     "metadata": {},
     "output_type": "execute_result"
    }
   ],
   "source": [
    "#Tomamos la muestra para nuestra experimentación (50000)\n",
    "reviews_positivo_df = reviews_df[reviews_df['Polaridad'] == \"Positivo\"]\n",
    "reviews_positivo_df = reviews_positivo_df.dropna()\n",
    "reviews_positivo_df = reviews_positivo_df.sample(n = 25000)\n",
    "\n",
    "reviews_negativo_df = reviews_df[reviews_df['Polaridad'] == \"Negativo\"]\n",
    "reviews_negativo_df = reviews_negativo_df.dropna()\n",
    "reviews_negativo_df = reviews_negativo_df.sample(n = 25000)\n",
    "\n",
    "reviews_df = pd.concat([reviews_positivo_df,reviews_negativo_df])\n",
    "reviews_df"
   ]
  },
  {
   "cell_type": "code",
   "execution_count": 7,
   "metadata": {},
   "outputs": [
    {
     "data": {
      "image/png": "[encoded data removed]",
      "text/plain": [
       "<Figure size 432x288 with 1 Axes>"
      ]
     },
     "metadata": {
      "needs_background": "light"
     },
     "output_type": "display_data"
    }
   ],
   "source": [
    "count_class=pd.value_counts(reviews_df[\"Polaridad\"], sort= True)\n",
    "count_class.plot(kind= 'bar', color= [\"blue\", \"orange\"])\n",
    "plt.title('Proportion Target Class')\n",
    "plt.show()"
   ]
  },
  {
   "cell_type": "code",
   "execution_count": 8,
   "metadata": {},
   "outputs": [
    {
     "name": "stdout",
     "output_type": "stream",
     "text": [
      "Positivo 50 %\n",
      "Negativo 50 %\n"
     ]
    }
   ],
   "source": [
    "print('Positivo', round(reviews_df['Polaridad'].value_counts()['Positivo']/len(reviews_df) * 100), '%')\n",
    "print('Negativo', round(reviews_df['Polaridad'].value_counts()['Negativo']/len(reviews_df) * 100), '%')"
   ]
  },
  {
   "cell_type": "code",
   "execution_count": 9,
   "metadata": {},
   "outputs": [],
   "source": [
    "#Trabajamos con datos numericos (1=Positivo, 0=Negativo)\n",
    "reviews_df['Texto'] = reviews_df['Texto'].astype(str)\n",
    "reviews_df['Polaridad'] = reviews_df['Polaridad'].replace(['Positivo', 'Negativo'], [1, 0]) #!!!!!!\n",
    "#reviews_df"
   ]
  },
  {
   "cell_type": "code",
   "execution_count": 10,
   "metadata": {},
   "outputs": [
    {
     "name": "stdout",
     "output_type": "stream",
     "text": [
      "50000\n",
      "50000\n"
     ]
    }
   ],
   "source": [
    "main_text = reviews_df['Texto']\n",
    "target = reviews_df['Polaridad']\n",
    "\n",
    "print(len(main_text))\n",
    "print(len(target))"
   ]
  },
  {
   "cell_type": "code",
   "execution_count": 11,
   "metadata": {},
   "outputs": [
    {
     "data": {
      "text/plain": [
       "array([0, 1], dtype=int64)"
      ]
     },
     "execution_count": 11,
     "metadata": {},
     "output_type": "execute_result"
    }
   ],
   "source": [
    "#Vectorizamos la Polaridad\n",
    "n_classes = np.unique(target)\n",
    "n_classes"
   ]
  },
  {
   "cell_type": "code",
   "execution_count": 12,
   "metadata": {},
   "outputs": [],
   "source": [
    "#Vectorizamos y Definimos los conjuntos de datos de entrenamiento y prueba\n",
    "cv = CountVectorizer()\n",
    "\n",
    "train_data,test_data = train_test_split(reviews_df,train_size=0.9,random_state=0)\n",
    "\n",
    "X_train = cv.fit_transform(train_data['Texto'])\n",
    "y_train = train_data['Polaridad']\n",
    "X_test = cv.transform(test_data['Texto'])\n",
    "y_test = test_data['Polaridad']"
   ]
  },
  {
   "cell_type": "code",
   "execution_count": 13,
   "metadata": {},
   "outputs": [],
   "source": [
    "#Instanciamos la clase MultinomialNB (parámetros por defecto)\n",
    "nb = MultinomialNB() #alpha=1.0, class_prior=None, fit_prior=True"
   ]
  },
  {
   "cell_type": "code",
   "execution_count": 14,
   "metadata": {},
   "outputs": [
    {
     "name": "stdout",
     "output_type": "stream",
     "text": [
      "Fitting 5 folds for each of 24 candidates, totalling 120 fits\n",
      "Best Accuracy Through Grid Search : 0.927\n",
      "Best Parameters : {'alpha': 0.5, 'class_prior': None, 'fit_prior': False}\n",
      "\n"
     ]
    }
   ],
   "source": [
    "#Definimos una matriz con los hiperparámetros a utilizar en la experimentación\n",
    "params = {'alpha': [0,0.01, 0.1, 0.5, 1.0, 10.0 ],\n",
    "          'fit_prior': [True, False],\n",
    "          'class_prior': [None, [0.5,]* len(n_classes), ]\n",
    "         }\n",
    "# Define las metricas a obtener\n",
    "scoring = {'accuracy': make_scorer(accuracy_score),\n",
    " 'f1': make_scorer(f1_score, pos_label=1),\n",
    " 'roc_auc': make_scorer(roc_auc_score)}\n",
    "\n",
    "# Entrena los datos\n",
    "multinomial_nb_grid = GridSearchCV(MultinomialNB(), param_grid=params,scoring=scoring,refit='accuracy', n_jobs=-1, cv=5, verbose=10)\n",
    "multinomial_nb_grid.fit(X_train,y_train)\n",
    "\n",
    "# Predice los datos de test\n",
    "y_pred = multinomial_nb_grid.predict(X_test)\n",
    "\n",
    "print('Best Accuracy Through Grid Search : {:.3f}'.format(multinomial_nb_grid.best_score_))\n",
    "print('Best Parameters : {}\\n'.format(multinomial_nb_grid.best_params_))"
   ]
  },
  {
   "cell_type": "code",
   "execution_count": 15,
   "metadata": {
    "scrolled": true
   },
   "outputs": [
    {
     "name": "stdout",
     "output_type": "stream",
     "text": [
      "0.89791 0.89828 0.89791 for {'alpha': 0, 'class_prior': None, 'fit_prior': True}\n",
      "0.89791 0.89826 0.89791 for {'alpha': 0, 'class_prior': None, 'fit_prior': False}\n",
      "0.89791 0.89826 0.89791 for {'alpha': 0, 'class_prior': [0.5, 0.5], 'fit_prior': True}\n",
      "0.89791 0.89826 0.89791 for {'alpha': 0, 'class_prior': [0.5, 0.5], 'fit_prior': False}\n",
      "0.92302 0.92416 0.92300 for {'alpha': 0.01, 'class_prior': None, 'fit_prior': True}\n",
      "0.92309 0.92422 0.92306 for {'alpha': 0.01, 'class_prior': None, 'fit_prior': False}\n",
      "0.92309 0.92422 0.92306 for {'alpha': 0.01, 'class_prior': [0.5, 0.5], 'fit_prior': True}\n",
      "0.92309 0.92422 0.92306 for {'alpha': 0.01, 'class_prior': [0.5, 0.5], 'fit_prior': False}\n",
      "0.92627 0.92760 0.92623 for {'alpha': 0.1, 'class_prior': None, 'fit_prior': True}\n",
      "0.92624 0.92756 0.92621 for {'alpha': 0.1, 'class_prior': None, 'fit_prior': False}\n",
      "0.92624 0.92756 0.92621 for {'alpha': 0.1, 'class_prior': [0.5, 0.5], 'fit_prior': True}\n",
      "0.92624 0.92756 0.92621 for {'alpha': 0.1, 'class_prior': [0.5, 0.5], 'fit_prior': False}\n",
      "0.92649 0.92791 0.92645 for {'alpha': 0.5, 'class_prior': None, 'fit_prior': True}\n",
      "0.92653 0.92795 0.92650 for {'alpha': 0.5, 'class_prior': None, 'fit_prior': False}\n",
      "0.92653 0.92795 0.92650 for {'alpha': 0.5, 'class_prior': [0.5, 0.5], 'fit_prior': True}\n",
      "0.92653 0.92795 0.92650 for {'alpha': 0.5, 'class_prior': [0.5, 0.5], 'fit_prior': False}\n",
      "0.92607 0.92748 0.92603 for {'alpha': 1.0, 'class_prior': None, 'fit_prior': True}\n",
      "0.92616 0.92755 0.92612 for {'alpha': 1.0, 'class_prior': None, 'fit_prior': False}\n",
      "0.92616 0.92755 0.92612 for {'alpha': 1.0, 'class_prior': [0.5, 0.5], 'fit_prior': True}\n",
      "0.92616 0.92755 0.92612 for {'alpha': 1.0, 'class_prior': [0.5, 0.5], 'fit_prior': False}\n",
      "0.91909 0.91833 0.91911 for {'alpha': 10.0, 'class_prior': None, 'fit_prior': True}\n",
      "0.91909 0.91832 0.91911 for {'alpha': 10.0, 'class_prior': None, 'fit_prior': False}\n",
      "0.91909 0.91832 0.91911 for {'alpha': 10.0, 'class_prior': [0.5, 0.5], 'fit_prior': True}\n",
      "0.91909 0.91832 0.91911 for {'alpha': 10.0, 'class_prior': [0.5, 0.5], 'fit_prior': False}\n"
     ]
    }
   ],
   "source": [
    "#Imprimimos métricas obtenidas\n",
    "for accuracy, f1, roc_auc, params in zip(multinomial_nb_grid.cv_results_['mean_test_accuracy'], \n",
    "                             multinomial_nb_grid.cv_results_['mean_test_f1'], multinomial_nb_grid.cv_results_['mean_test_roc_auc'], \n",
    "                             multinomial_nb_grid.cv_results_['params']):\n",
    "       print(\"%0.5f %0.5f %0.5f for %r\" % (accuracy,f1,roc_auc, params))"
   ]
  },
  {
   "cell_type": "code",
   "execution_count": 17,
   "metadata": {},
   "outputs": [],
   "source": [
    "#Se muestran los resultados en una matriz de Confusión\n",
    "from sklearn.metrics import confusion_matrix, classification_report\n",
    "import seaborn as sns\n",
    "def ConfusionMatrix(y_pred, y_test):\n",
    "     # Compute and plot the Confusion matrix\n",
    "     cf_matrix = confusion_matrix(y_test, y_pred)\n",
    "     categories = ['Negativo','Positivo']\n",
    "     group_names = ['True Neg','False Pos', 'False Neg','True Pos']\n",
    "     group_percentages = ['{0:.2%}'.format(value) for value in cf_matrix.flatten() / \n",
    "    np.sum(cf_matrix)]\n",
    "     labels = [f'{v1}\\n{v2}' for v1, v2 in zip(group_names,group_percentages)]\n",
    "     labels = np.asarray(labels).reshape(2,2)\n",
    "     sns.heatmap(cf_matrix, annot = labels, cmap = 'Blues',fmt = '',\n",
    "     xticklabels = categories, yticklabels = categories)\n",
    "     plt.xlabel(\"Predicted label\", fontdict = {'size':14}, labelpad = 10)\n",
    "     plt.ylabel(\"True label\" , fontdict = {'size':14}, labelpad = 10)\n",
    "     plt.title (\"Matriz de confusion\", fontdict = {'size':18}, pad = 20)"
   ]
  },
  {
   "cell_type": "code",
   "execution_count": 18,
   "metadata": {},
   "outputs": [
    {
     "data": {
      "image/png": "[encoded data removed]",
      "text/plain": [
       "<Figure size 432x288 with 2 Axes>"
      ]
     },
     "metadata": {
      "needs_background": "light"
     },
     "output_type": "display_data"
    }
   ],
   "source": [
    "ConfusionMatrix(y_pred, y_test)"
   ]
  },
  {
   "cell_type": "code",
   "execution_count": null,
   "metadata": {},
   "outputs": [],
   "source": []
  }
 ],
 "metadata": {
  "kernelspec": {
   "display_name": "Python 3",
   "language": "python",
   "name": "python3"
  },
  "language_info": {
   "codemirror_mode": {
    "name": "ipython",
    "version": 3
   },
   "file_extension": ".py",
   "mimetype": "text/x-python",
   "name": "python",
   "nbconvert_exporter": "python",
   "pygments_lexer": "ipython3",
   "version": "3.8.5"
  }
 },
 "nbformat": 4,
 "nbformat_minor": 5
}
